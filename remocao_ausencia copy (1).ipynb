{
 "cells": [
  {
   "cell_type": "markdown",
   "metadata": {},
   "source": [
    "1. Exercício: Carregar um arquivo e exibir as primeiras 5 linhas."
   ]
  },
  {
   "cell_type": "code",
   "execution_count": null,
   "metadata": {},
   "outputs": [],
   "source": [
    "import pandas as pd\n",
    "import numpy as np\n",
    "\n",
    "# Carregando o arquivo\n",
    "df = pd.read_excel(\"dados_ausentes.xlsx\")\n",
    "print(df.head(5))"
   ]
  },
  {
   "cell_type": "markdown",
   "metadata": {},
   "source": [
    "2. Exercício: Verificar se há valores NaN nas colunas do DataFrame."
   ]
  },
  {
   "cell_type": "code",
   "execution_count": null,
   "metadata": {},
   "outputs": [],
   "source": [
    "print(df.isnull())"
   ]
  },
  {
   "cell_type": "markdown",
   "metadata": {},
   "source": [
    "3. Exercício: Substituir os valores NaN de uma coluna por 0."
   ]
  },
  {
   "cell_type": "code",
   "execution_count": null,
   "metadata": {},
   "outputs": [],
   "source": [
    "df['Salário'].fillna(0, inplace=True)\n",
    "print(df)"
   ]
  },
  {
   "cell_type": "markdown",
   "metadata": {},
   "source": [
    "4. Exercício: Substituir os valores NaN de uma coluna por um valor específico\n",
    "(por exemplo, a média)."
   ]
  },
  {
   "cell_type": "code",
   "execution_count": null,
   "metadata": {},
   "outputs": [],
   "source": [
    "df['Idade'].fillna(df['Idade'].mean(), inplace=True)\n",
    "print(df)"
   ]
  },
  {
   "cell_type": "markdown",
   "metadata": {},
   "source": [
    "5. Exercício: Remover todas as linhas que contêm valores NaN em qualquer\n",
    "coluna"
   ]
  },
  {
   "cell_type": "code",
   "execution_count": null,
   "metadata": {},
   "outputs": [],
   "source": [
    "df_sem_nulos = df.dropna()\n",
    "\n",
    "print(df_sem_nulos)"
   ]
  },
  {
   "cell_type": "markdown",
   "metadata": {},
   "source": [
    "6. Exercício: Remover todas as linhas que contêm valores NaN em uma\n",
    "coluna específica."
   ]
  },
  {
   "cell_type": "code",
   "execution_count": null,
   "metadata": {},
   "outputs": [],
   "source": [
    "df_sem_nulos = df.dropna()\n",
    "\n",
    "print(df_sem_nulos)"
   ]
  },
  {
   "cell_type": "markdown",
   "metadata": {},
   "source": [
    "7. Exercício: Substituir valores NaN de uma coluna com a mediana dessa\n",
    "coluna."
   ]
  },
  {
   "cell_type": "code",
   "execution_count": null,
   "metadata": {},
   "outputs": [],
   "source": [
    "\n",
    "df['Idade'].fillna(df['Idade'].median())"
   ]
  },
  {
   "cell_type": "markdown",
   "metadata": {},
   "source": [
    "8. Exercício: Substituir valores NaN de uma coluna com o valor de uma outra\n",
    "coluna."
   ]
  },
  {
   "cell_type": "code",
   "execution_count": null,
   "metadata": {},
   "outputs": [],
   "source": [
    "df['Idade'].fillna(df['Cidade'], inplace=True)"
   ]
  },
  {
   "cell_type": "markdown",
   "metadata": {},
   "source": [
    "9. Exercício: Preencher valores NaN com o valor anterior (método de &quot;forward\n",
    "fill&quot;)."
   ]
  },
  {
   "cell_type": "code",
   "execution_count": null,
   "metadata": {},
   "outputs": [],
   "source": [
    "#pega o valor de cima\n",
    "df['Idade'] = df['Idade'].ffill()\n"
   ]
  },
  {
   "cell_type": "markdown",
   "metadata": {},
   "source": [
    "10. Exercício: Preencher valores NaN com o valor posterior (método de\n",
    "&quot;backward fill&quot;)."
   ]
  },
  {
   "cell_type": "code",
   "execution_count": null,
   "metadata": {},
   "outputs": [],
   "source": [
    "df['Idade'] = df['Idade'].bfill()"
   ]
  },
  {
   "cell_type": "markdown",
   "metadata": {},
   "source": [
    "11. Exercício: Alterar todos os valores de uma coluna para maiúsculas."
   ]
  },
  {
   "cell_type": "code",
   "execution_count": 20,
   "metadata": {},
   "outputs": [
    {
     "name": "stdout",
     "output_type": "stream",
     "text": [
      "      Nome  Idade          Cidade  Salário\n",
      "0     João   28.0       SÃO PAULO   3500.0\n",
      "1    Maria   27.0  RIO DE JANEIRO   4500.0\n",
      "2     José   35.0    DESCONHECIDO      0.0\n",
      "3      Ana   22.0        SALVADOR   5000.0\n",
      "4    Pedro   27.0    PORTO ALEGRE   4800.0\n",
      "5      Ana   22.0        SALVADOR   5000.0\n",
      "6  Jessica   20.0      SÃO PAULO    3410.0\n",
      "7   Carlos   35.0    PORTO ALEGRE   2500.0\n"
     ]
    }
   ],
   "source": [
    "df['Cidade'] = df['Cidade'].str.upper()\n",
    "print(df)"
   ]
  },
  {
   "cell_type": "markdown",
   "metadata": {},
   "source": [
    "12. Exercício: Alterar todos os valores de uma coluna para minúsculas."
   ]
  },
  {
   "cell_type": "code",
   "execution_count": null,
   "metadata": {},
   "outputs": [],
   "source": [
    "df['Cidade'] = df['Cidade'].str.lower()\n",
    "print(df)"
   ]
  },
  {
   "cell_type": "markdown",
   "metadata": {},
   "source": [
    "13. Exercício: Remover espaços em branco à esquerda e à direita em uma\n",
    "coluna."
   ]
  },
  {
   "cell_type": "code",
   "execution_count": null,
   "metadata": {},
   "outputs": [],
   "source": [
    "df_sem_nulos = df.dropna()\n",
    "\n",
    "print(df_sem_nulos)"
   ]
  },
  {
   "cell_type": "markdown",
   "metadata": {},
   "source": [
    "14. Exercício: Substituir valores de uma coluna com base em um dicionário de\n",
    "mapeamento (ex: &quot;São Paulo&quot; para &quot;SP&quot;)."
   ]
  },
  {
   "cell_type": "code",
   "execution_count": null,
   "metadata": {},
   "outputs": [],
   "source": [
    "df['Cidade'] = df['Cidade'].str.lower().replace({'sao paulo': 'SP', 'rio de janeiro': 'rj', 'rj': 'RJ'})\n",
    "print(df)"
   ]
  },
  {
   "cell_type": "markdown",
   "metadata": {},
   "source": [
    "15 - Exercício: Identificar e remover valores duplicados de um DataFrame."
   ]
  },
  {
   "cell_type": "code",
   "execution_count": 22,
   "metadata": {},
   "outputs": [
    {
     "name": "stdout",
     "output_type": "stream",
     "text": [
      "      Nome  Idade          Cidade  Salário\n",
      "0     João   28.0       SÃO PAULO   3500.0\n",
      "1    Maria   27.0  RIO DE JANEIRO   4500.0\n",
      "2     José   35.0    DESCONHECIDO      0.0\n",
      "3      Ana   22.0        SALVADOR   5000.0\n",
      "4    Pedro   27.0    PORTO ALEGRE   4800.0\n",
      "5      Ana   22.0        SALVADOR   5000.0\n",
      "6  Jessica   20.0      SÃO PAULO    3410.0\n",
      "7   Carlos   35.0    PORTO ALEGRE   2500.0\n"
     ]
    }
   ],
   "source": [
    "duplicadas = df.duplicated()\n",
    "\n",
    "print(df)"
   ]
  }
 ],
 "metadata": {
  "kernelspec": {
   "display_name": "Python 3",
   "language": "python",
   "name": "python3"
  },
  "language_info": {
   "codemirror_mode": {
    "name": "ipython",
    "version": 3
   },
   "file_extension": ".py",
   "mimetype": "text/x-python",
   "name": "python",
   "nbconvert_exporter": "python",
   "pygments_lexer": "ipython3",
   "version": "3.12.6"
  }
 },
 "nbformat": 4,
 "nbformat_minor": 2
}
