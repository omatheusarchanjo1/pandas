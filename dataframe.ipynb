{
 "cells": [
  {
   "cell_type": "code",
   "execution_count": null,
   "id": "4182d1f4",
   "metadata": {},
   "outputs": [],
   "source": [
    "import pandas as pd\n",
    "\n",
    "dados = {\n",
    "    'Nome': ['Aline', 'Beto', 'Carla', 'Daniel'],\n",
    "    'Idade': [25, 30, 45, 50],\n",
    "    'Naturalidade': ['SP', 'AM', 'RJ', 'SP']\n",
    "}\n",
    "df = pd.DataFrame(dados)\n",
    "print(df['Nome'])\n"
   ]
  },
  {
   "cell_type": "code",
   "execution_count": null,
   "id": "164c260f",
   "metadata": {},
   "outputs": [],
   "source": [
    "print(df[df['Idade']>30])"
   ]
  },
  {
   "cell_type": "code",
   "execution_count": 19,
   "id": "6deefb11",
   "metadata": {},
   "outputs": [
    {
     "name": "stdout",
     "output_type": "stream",
     "text": [
      "    Nome  Idade Naturalidade\n",
      "0  Aline     25           SP\n"
     ]
    }
   ],
   "source": [
    "print(df[df['Nome'] == 'Aline'])"
   ]
  },
  {
   "cell_type": "code",
   "execution_count": 14,
   "id": "17c505a9",
   "metadata": {},
   "outputs": [
    {
     "name": "stdout",
     "output_type": "stream",
     "text": [
      "Nome            Beto\n",
      "Idade             30\n",
      "Naturalidade      AM\n",
      "Name: 1, dtype: object\n"
     ]
    }
   ],
   "source": [
    "print(df.loc[1])"
   ]
  },
  {
   "cell_type": "code",
   "execution_count": 20,
   "id": "f88e9a92",
   "metadata": {},
   "outputs": [
    {
     "name": "stdout",
     "output_type": "stream",
     "text": [
      "     Nome  Idade Naturalidade\n",
      "0   Aline     25           SP\n",
      "1    Beto     30           AM\n",
      "2   Carla     45           RJ\n",
      "3  Daniel     50           SP\n"
     ]
    }
   ],
   "source": [
    "print(df.head(6))"
   ]
  },
  {
   "cell_type": "code",
   "execution_count": 21,
   "id": "8eeeca27",
   "metadata": {},
   "outputs": [
    {
     "name": "stdout",
     "output_type": "stream",
     "text": [
      "Nome            object\n",
      "Idade            int64\n",
      "Naturalidade    object\n",
      "dtype: object\n"
     ]
    }
   ],
   "source": [
    "print(df.dtypes)"
   ]
  }
 ],
 "metadata": {
  "kernelspec": {
   "display_name": "Python 3",
   "language": "python",
   "name": "python3"
  },
  "language_info": {
   "codemirror_mode": {
    "name": "ipython",
    "version": 3
   },
   "file_extension": ".py",
   "mimetype": "text/x-python",
   "name": "python",
   "nbconvert_exporter": "python",
   "pygments_lexer": "ipython3",
   "version": "3.12.6"
  }
 },
 "nbformat": 4,
 "nbformat_minor": 5
}
