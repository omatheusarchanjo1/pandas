{
 "cells": [
  {
   "cell_type": "markdown",
   "id": "b7147a72",
   "metadata": {},
   "source": [
    "1.Padronizar a coluna &#39;categoria&#39; para minúsculas."
   ]
  },
  {
   "cell_type": "code",
   "execution_count": 1,
   "id": "5f3565ff",
   "metadata": {},
   "outputs": [
    {
     "name": "stdout",
     "output_type": "stream",
     "text": [
      "Index(['data', 'loja', 'categoria', 'produto', 'quantidade', 'valor_venda'], dtype='object')\n"
     ]
    }
   ],
   "source": [
    "import pandas as pd\n",
    "import numpy as np\n",
    "import matplotlib.pyplot as plt\n",
    "vendas = \"vendas.xlsx\"\n",
    "df = pd.read_excel(vendas)\n",
    "# print(df.head())\n",
    "print(df.columns)"
   ]
  },
  {
   "cell_type": "markdown",
   "id": "cc16bafd",
   "metadata": {},
   "source": [
    "1.Padronizar a coluna &#39;categoria&#39; para minúsculas."
   ]
  },
  {
   "cell_type": "code",
   "execution_count": 2,
   "id": "896a45d2",
   "metadata": {},
   "outputs": [
    {
     "name": "stdout",
     "output_type": "stream",
     "text": [
      "          data         loja         categoria          produto  quantidade  \\\n",
      "0   2024-07-20  Vento Norte  eletrodomesticos        Aquecedor         5.0   \n",
      "1   2024-05-30  Vento Norte           sazonal     Guarda-chuva         6.0   \n",
      "2   2024-01-25  Vento Norte            roupas            Calça         8.0   \n",
      "3   2024-07-10  Chuva Clara            roupas           Casaco         5.0   \n",
      "4   2024-05-29    Porto Sol          infantil   Blusa Infantil         NaN   \n",
      "..         ...          ...               ...              ...         ...   \n",
      "495 2024-08-23    Porto Sol  eletrodomesticos       Ventilador         4.0   \n",
      "496 2024-12-19  Vento Norte  eletrodomesticos       Ventilador         1.0   \n",
      "497 2024-05-12    Vila Neve          infantil   Blusa Infantil         6.0   \n",
      "498 2024-03-08    Vila Neve  eletrodomesticos  Ar-condicionado         1.0   \n",
      "499 2024-07-25  Vento Norte           sazonal     Guarda-chuva         3.0   \n",
      "\n",
      "     valor_venda  \n",
      "0         405.55  \n",
      "1        2866.20  \n",
      "2        3292.72  \n",
      "3        1294.95  \n",
      "4            NaN  \n",
      "..           ...  \n",
      "495      1545.72  \n",
      "496       230.89  \n",
      "497       441.30  \n",
      "498       293.93  \n",
      "499      1479.81  \n",
      "\n",
      "[500 rows x 6 columns]\n"
     ]
    }
   ],
   "source": [
    "df['categoria'] = df['categoria'].str.lower()\n",
    "\n",
    "print(df)"
   ]
  },
  {
   "cell_type": "markdown",
   "id": "319a5f32",
   "metadata": {},
   "source": [
    "2.Remover registros onde a quantidade está ausente"
   ]
  },
  {
   "cell_type": "code",
   "execution_count": 3,
   "id": "8965304c",
   "metadata": {},
   "outputs": [
    {
     "data": {
      "text/html": [
       "<div>\n",
       "<style scoped>\n",
       "    .dataframe tbody tr th:only-of-type {\n",
       "        vertical-align: middle;\n",
       "    }\n",
       "\n",
       "    .dataframe tbody tr th {\n",
       "        vertical-align: top;\n",
       "    }\n",
       "\n",
       "    .dataframe thead th {\n",
       "        text-align: right;\n",
       "    }\n",
       "</style>\n",
       "<table border=\"1\" class=\"dataframe\">\n",
       "  <thead>\n",
       "    <tr style=\"text-align: right;\">\n",
       "      <th></th>\n",
       "      <th>data</th>\n",
       "      <th>loja</th>\n",
       "      <th>categoria</th>\n",
       "      <th>produto</th>\n",
       "      <th>quantidade</th>\n",
       "      <th>valor_venda</th>\n",
       "    </tr>\n",
       "  </thead>\n",
       "  <tbody>\n",
       "    <tr>\n",
       "      <th>0</th>\n",
       "      <td>2024-07-20</td>\n",
       "      <td>Vento Norte</td>\n",
       "      <td>eletrodomesticos</td>\n",
       "      <td>Aquecedor</td>\n",
       "      <td>5.0</td>\n",
       "      <td>405.55</td>\n",
       "    </tr>\n",
       "    <tr>\n",
       "      <th>1</th>\n",
       "      <td>2024-05-30</td>\n",
       "      <td>Vento Norte</td>\n",
       "      <td>sazonal</td>\n",
       "      <td>Guarda-chuva</td>\n",
       "      <td>6.0</td>\n",
       "      <td>2866.20</td>\n",
       "    </tr>\n",
       "    <tr>\n",
       "      <th>2</th>\n",
       "      <td>2024-01-25</td>\n",
       "      <td>Vento Norte</td>\n",
       "      <td>roupas</td>\n",
       "      <td>Calça</td>\n",
       "      <td>8.0</td>\n",
       "      <td>3292.72</td>\n",
       "    </tr>\n",
       "    <tr>\n",
       "      <th>3</th>\n",
       "      <td>2024-07-10</td>\n",
       "      <td>Chuva Clara</td>\n",
       "      <td>roupas</td>\n",
       "      <td>Casaco</td>\n",
       "      <td>5.0</td>\n",
       "      <td>1294.95</td>\n",
       "    </tr>\n",
       "    <tr>\n",
       "      <th>5</th>\n",
       "      <td>2024-08-31</td>\n",
       "      <td>Porto Sol</td>\n",
       "      <td>sazonal</td>\n",
       "      <td>Manta térmica</td>\n",
       "      <td>2.0</td>\n",
       "      <td>957.96</td>\n",
       "    </tr>\n",
       "    <tr>\n",
       "      <th>...</th>\n",
       "      <td>...</td>\n",
       "      <td>...</td>\n",
       "      <td>...</td>\n",
       "      <td>...</td>\n",
       "      <td>...</td>\n",
       "      <td>...</td>\n",
       "    </tr>\n",
       "    <tr>\n",
       "      <th>495</th>\n",
       "      <td>2024-08-23</td>\n",
       "      <td>Porto Sol</td>\n",
       "      <td>eletrodomesticos</td>\n",
       "      <td>Ventilador</td>\n",
       "      <td>4.0</td>\n",
       "      <td>1545.72</td>\n",
       "    </tr>\n",
       "    <tr>\n",
       "      <th>496</th>\n",
       "      <td>2024-12-19</td>\n",
       "      <td>Vento Norte</td>\n",
       "      <td>eletrodomesticos</td>\n",
       "      <td>Ventilador</td>\n",
       "      <td>1.0</td>\n",
       "      <td>230.89</td>\n",
       "    </tr>\n",
       "    <tr>\n",
       "      <th>497</th>\n",
       "      <td>2024-05-12</td>\n",
       "      <td>Vila Neve</td>\n",
       "      <td>infantil</td>\n",
       "      <td>Blusa Infantil</td>\n",
       "      <td>6.0</td>\n",
       "      <td>441.30</td>\n",
       "    </tr>\n",
       "    <tr>\n",
       "      <th>498</th>\n",
       "      <td>2024-03-08</td>\n",
       "      <td>Vila Neve</td>\n",
       "      <td>eletrodomesticos</td>\n",
       "      <td>Ar-condicionado</td>\n",
       "      <td>1.0</td>\n",
       "      <td>293.93</td>\n",
       "    </tr>\n",
       "    <tr>\n",
       "      <th>499</th>\n",
       "      <td>2024-07-25</td>\n",
       "      <td>Vento Norte</td>\n",
       "      <td>sazonal</td>\n",
       "      <td>Guarda-chuva</td>\n",
       "      <td>3.0</td>\n",
       "      <td>1479.81</td>\n",
       "    </tr>\n",
       "  </tbody>\n",
       "</table>\n",
       "<p>407 rows × 6 columns</p>\n",
       "</div>"
      ],
      "text/plain": [
       "          data         loja         categoria          produto  quantidade  \\\n",
       "0   2024-07-20  Vento Norte  eletrodomesticos        Aquecedor         5.0   \n",
       "1   2024-05-30  Vento Norte           sazonal     Guarda-chuva         6.0   \n",
       "2   2024-01-25  Vento Norte            roupas            Calça         8.0   \n",
       "3   2024-07-10  Chuva Clara            roupas           Casaco         5.0   \n",
       "5   2024-08-31    Porto Sol           sazonal    Manta térmica         2.0   \n",
       "..         ...          ...               ...              ...         ...   \n",
       "495 2024-08-23    Porto Sol  eletrodomesticos       Ventilador         4.0   \n",
       "496 2024-12-19  Vento Norte  eletrodomesticos       Ventilador         1.0   \n",
       "497 2024-05-12    Vila Neve          infantil   Blusa Infantil         6.0   \n",
       "498 2024-03-08    Vila Neve  eletrodomesticos  Ar-condicionado         1.0   \n",
       "499 2024-07-25  Vento Norte           sazonal     Guarda-chuva         3.0   \n",
       "\n",
       "     valor_venda  \n",
       "0         405.55  \n",
       "1        2866.20  \n",
       "2        3292.72  \n",
       "3        1294.95  \n",
       "5         957.96  \n",
       "..           ...  \n",
       "495      1545.72  \n",
       "496       230.89  \n",
       "497       441.30  \n",
       "498       293.93  \n",
       "499      1479.81  \n",
       "\n",
       "[407 rows x 6 columns]"
      ]
     },
     "execution_count": 3,
     "metadata": {},
     "output_type": "execute_result"
    }
   ],
   "source": [
    "df.dropna()"
   ]
  },
  {
   "cell_type": "markdown",
   "id": "4478a348",
   "metadata": {},
   "source": [
    "3. Remover espaços extras e padronizar com primeira letra maiúscula (estilo título)"
   ]
  },
  {
   "cell_type": "code",
   "execution_count": 4,
   "id": "c2304a91",
   "metadata": {},
   "outputs": [],
   "source": [
    "df.columns = df.columns.str.title()\n",
    "\n",
    "df['Categoria'] = df['Categoria'].str.strip()\n",
    "df['Loja'] = df['Loja'].str.strip()\n",
    "df['Produto'] = df['Produto'].str.strip()"
   ]
  },
  {
   "cell_type": "markdown",
   "id": "6cfe8a73",
   "metadata": {},
   "source": [
    "4. Garantir que a coluna data seja datetime"
   ]
  },
  {
   "cell_type": "code",
   "execution_count": 5,
   "id": "93bed4fc",
   "metadata": {},
   "outputs": [
    {
     "name": "stdout",
     "output_type": "stream",
     "text": [
      "Data           datetime64[ns]\n",
      "Loja                   object\n",
      "Categoria              object\n",
      "Produto                object\n",
      "Quantidade            float64\n",
      "Valor_Venda           float64\n",
      "dtype: object\n"
     ]
    }
   ],
   "source": [
    "df['Data'] = pd.to_datetime(df['Data'], format='datetime64')\n",
    "\n",
    "print(df.dtypes)"
   ]
  },
  {
   "cell_type": "markdown",
   "id": "22f43fb4",
   "metadata": {},
   "source": [
    "6. Calcular valor médio unitário por produto (sem considerar nulos)"
   ]
  },
  {
   "cell_type": "code",
   "execution_count": 6,
   "id": "07cf3514",
   "metadata": {},
   "outputs": [
    {
     "name": "stdout",
     "output_type": "stream",
     "text": [
      "          Data         Loja         Categoria          Produto  Quantidade  \\\n",
      "0   2024-07-20  Vento Norte  eletrodomesticos        Aquecedor         5.0   \n",
      "1   2024-05-30  Vento Norte           sazonal     Guarda-chuva         6.0   \n",
      "2   2024-01-25  Vento Norte            roupas            Calça         8.0   \n",
      "3   2024-07-10  Chuva Clara            roupas           Casaco         5.0   \n",
      "4   2024-05-29    Porto Sol          infantil   Blusa Infantil         NaN   \n",
      "..         ...          ...               ...              ...         ...   \n",
      "495 2024-08-23    Porto Sol  eletrodomesticos       Ventilador         4.0   \n",
      "496 2024-12-19  Vento Norte  eletrodomesticos       Ventilador         1.0   \n",
      "497 2024-05-12    Vila Neve          infantil   Blusa Infantil         6.0   \n",
      "498 2024-03-08    Vila Neve  eletrodomesticos  Ar-condicionado         1.0   \n",
      "499 2024-07-25  Vento Norte           sazonal     Guarda-chuva         3.0   \n",
      "\n",
      "     Valor_Venda  Valor Unitario  \n",
      "0         405.55           81.11  \n",
      "1        2866.20          477.70  \n",
      "2        3292.72          411.59  \n",
      "3        1294.95          258.99  \n",
      "4            NaN             NaN  \n",
      "..           ...             ...  \n",
      "495      1545.72          386.43  \n",
      "496       230.89          230.89  \n",
      "497       441.30           73.55  \n",
      "498       293.93          293.93  \n",
      "499      1479.81          493.27  \n",
      "\n",
      "[500 rows x 7 columns]\n"
     ]
    }
   ],
   "source": [
    "df['Valor Unitario'] = df['Valor_Venda'] / df['Quantidade']\n",
    "\n",
    "print(df)"
   ]
  },
  {
   "cell_type": "markdown",
   "id": "60779e1c",
   "metadata": {},
   "source": [
    "7. Agrupar e calcular média"
   ]
  },
  {
   "cell_type": "code",
   "execution_count": 7,
   "id": "85a5b77d",
   "metadata": {},
   "outputs": [
    {
     "data": {
      "text/plain": [
       "Produto\n",
       "Aquecedor          1185.67\n",
       "Ar-condicionado    1406.21\n",
       "Blusa Infantil     1428.06\n",
       "Calça              1733.81\n",
       "Camiseta           1374.57\n",
       "Casaco             1254.18\n",
       "Guarda-chuva       1380.07\n",
       "Lancheira          1193.75\n",
       "Manta térmica      1280.74\n",
       "Mochila            1872.34\n",
       "Protetor Solar     1777.38\n",
       "Ventilador         1552.91\n",
       "Vestido            1935.47\n",
       "Name: Valor_Venda, dtype: float64"
      ]
     },
     "execution_count": 7,
     "metadata": {},
     "output_type": "execute_result"
    }
   ],
   "source": [
    "df.groupby('Produto')['Valor_Venda'].mean().round(2)"
   ]
  },
  {
   "cell_type": "code",
   "execution_count": 8,
   "id": "7727beef",
   "metadata": {},
   "outputs": [
    {
     "data": {
      "text/plain": [
       "Produto\n",
       "Aquecedor          209.27\n",
       "Ar-condicionado    285.40\n",
       "Blusa Infantil     290.07\n",
       "Calça              266.70\n",
       "Camiseta           253.66\n",
       "Casaco             281.15\n",
       "Guarda-chuva       265.00\n",
       "Lancheira          271.68\n",
       "Manta térmica      261.93\n",
       "Mochila            303.51\n",
       "Protetor Solar     299.16\n",
       "Ventilador         287.49\n",
       "Vestido            298.54\n",
       "Name: Valor Unitario, dtype: float64"
      ]
     },
     "execution_count": 8,
     "metadata": {},
     "output_type": "execute_result"
    }
   ],
   "source": [
    "df.groupby('Produto')['Valor Unitario'].mean().round(2)"
   ]
  },
  {
   "cell_type": "markdown",
   "id": "ba7170f1",
   "metadata": {},
   "source": [
    "8. Preencher valor_unitario ausente"
   ]
  },
  {
   "cell_type": "code",
   "execution_count": 9,
   "id": "d9b1f89e",
   "metadata": {},
   "outputs": [
    {
     "data": {
      "text/plain": [
       "0       81.110000\n",
       "1      477.700000\n",
       "2      411.590000\n",
       "3      258.990000\n",
       "4      274.675929\n",
       "          ...    \n",
       "495    386.430000\n",
       "496    230.890000\n",
       "497     73.550000\n",
       "498    293.930000\n",
       "499    493.270000\n",
       "Name: Valor Unitario, Length: 500, dtype: float64"
      ]
     },
     "execution_count": 9,
     "metadata": {},
     "output_type": "execute_result"
    }
   ],
   "source": [
    "media = df['Valor Unitario'].mean()\n",
    "df['Valor Unitario'].fillna(media) "
   ]
  },
  {
   "cell_type": "markdown",
   "id": "61b3f860",
   "metadata": {},
   "source": [
    "9. Recalcular valor_venda"
   ]
  },
  {
   "cell_type": "code",
   "execution_count": 10,
   "id": "54d84153",
   "metadata": {},
   "outputs": [
    {
     "name": "stdout",
     "output_type": "stream",
     "text": [
      "          Data         Loja         Categoria          Produto  Quantidade  \\\n",
      "0   2024-07-20  Vento Norte  eletrodomesticos        Aquecedor         5.0   \n",
      "1   2024-05-30  Vento Norte           sazonal     Guarda-chuva         6.0   \n",
      "2   2024-01-25  Vento Norte            roupas            Calça         8.0   \n",
      "3   2024-07-10  Chuva Clara            roupas           Casaco         5.0   \n",
      "4   2024-05-29    Porto Sol          infantil   Blusa Infantil         NaN   \n",
      "..         ...          ...               ...              ...         ...   \n",
      "495 2024-08-23    Porto Sol  eletrodomesticos       Ventilador         4.0   \n",
      "496 2024-12-19  Vento Norte  eletrodomesticos       Ventilador         1.0   \n",
      "497 2024-05-12    Vila Neve          infantil   Blusa Infantil         6.0   \n",
      "498 2024-03-08    Vila Neve  eletrodomesticos  Ar-condicionado         1.0   \n",
      "499 2024-07-25  Vento Norte           sazonal     Guarda-chuva         3.0   \n",
      "\n",
      "     Valor_Venda  Valor Unitario  Recalculo  \n",
      "0         405.55           81.11     405.55  \n",
      "1        2866.20          477.70    2866.20  \n",
      "2        3292.72          411.59    3292.72  \n",
      "3        1294.95          258.99    1294.95  \n",
      "4            NaN             NaN        NaN  \n",
      "..           ...             ...        ...  \n",
      "495      1545.72          386.43    1545.72  \n",
      "496       230.89          230.89     230.89  \n",
      "497       441.30           73.55     441.30  \n",
      "498       293.93          293.93     293.93  \n",
      "499      1479.81          493.27    1479.81  \n",
      "\n",
      "[500 rows x 8 columns]\n"
     ]
    }
   ],
   "source": [
    "df['Recalculo'] = df['Valor Unitario'] * df['Quantidade']\n",
    "\n",
    "print(df)"
   ]
  },
  {
   "cell_type": "markdown",
   "id": "104fd7e1",
   "metadata": {},
   "source": [
    "10. Salvar o novo DataFrame limpo em um novo arquivo Excel"
   ]
  },
  {
   "cell_type": "code",
   "execution_count": 11,
   "id": "ea02835e",
   "metadata": {},
   "outputs": [],
   "source": [
    "df.to_excel(\"Archanjo_Tratado.xlsx\")"
   ]
  },
  {
   "cell_type": "markdown",
   "id": "d9ff659e",
   "metadata": {},
   "source": []
  },
  {
   "cell_type": "markdown",
   "id": "59d87de3",
   "metadata": {},
   "source": []
  },
  {
   "cell_type": "code",
   "execution_count": 12,
   "id": "d3c0984a",
   "metadata": {},
   "outputs": [
    {
     "name": "stdout",
     "output_type": "stream",
     "text": [
      "   Unnamed: 0       Data         Loja         Categoria         Produto  \\\n",
      "0           0 2024-07-20  Vento Norte  eletrodomesticos       Aquecedor   \n",
      "1           1 2024-05-30  Vento Norte           sazonal    Guarda-chuva   \n",
      "2           2 2024-01-25  Vento Norte            roupas           Calça   \n",
      "3           3 2024-07-10  Chuva Clara            roupas          Casaco   \n",
      "4           4 2024-05-29    Porto Sol          infantil  Blusa Infantil   \n",
      "\n",
      "   Quantidade  Valor_Venda  Valor Unitario  Recalculo  \n",
      "0         5.0       405.55           81.11     405.55  \n",
      "1         6.0      2866.20          477.70    2866.20  \n",
      "2         8.0      3292.72          411.59    3292.72  \n",
      "3         5.0      1294.95          258.99    1294.95  \n",
      "4         NaN          NaN             NaN        NaN  \n"
     ]
    }
   ],
   "source": [
    "df_analise = pd.read_excel(\"Archanjo_Tratado.xlsx\")\n",
    "\n",
    "print(df_analise.head())"
   ]
  },
  {
   "cell_type": "markdown",
   "id": "239ace10",
   "metadata": {},
   "source": [
    "1. Total de vendas por loja - Agrupar por loja e somar o valor total vendido"
   ]
  },
  {
   "cell_type": "code",
   "execution_count": 13,
   "id": "8e5f526f",
   "metadata": {},
   "outputs": [
    {
     "name": "stdout",
     "output_type": "stream",
     "text": [
      "Loja\n",
      "Chuva Clara    167110.14\n",
      "Porto Sol      148059.25\n",
      "Vento Norte    160780.08\n",
      "Vila Neve      144611.09\n",
      "Name: Valor_Venda, dtype: float64\n"
     ]
    }
   ],
   "source": [
    "venda_por_loja = df_analise.groupby('Loja')['Valor_Venda'].sum().round(2)\n",
    "\n",
    "print(venda_por_loja)"
   ]
  },
  {
   "cell_type": "markdown",
   "id": "803826a2",
   "metadata": {},
   "source": [
    "2. Evolução mensal de vendas -  Identificar sazonalidades e picos mensais."
   ]
  },
  {
   "cell_type": "code",
   "execution_count": 14,
   "id": "c9e187ab",
   "metadata": {},
   "outputs": [
    {
     "name": "stdout",
     "output_type": "stream",
     "text": [
      "     Unnamed: 0       Data         Loja         Categoria          Produto  \\\n",
      "0             0 2024-07-20  Vento Norte  eletrodomesticos        Aquecedor   \n",
      "1             1 2024-05-30  Vento Norte           sazonal     Guarda-chuva   \n",
      "2             2 2024-01-25  Vento Norte            roupas            Calça   \n",
      "3             3 2024-07-10  Chuva Clara            roupas           Casaco   \n",
      "4             4 2024-05-29    Porto Sol          infantil   Blusa Infantil   \n",
      "..          ...        ...          ...               ...              ...   \n",
      "495         495 2024-08-23    Porto Sol  eletrodomesticos       Ventilador   \n",
      "496         496 2024-12-19  Vento Norte  eletrodomesticos       Ventilador   \n",
      "497         497 2024-05-12    Vila Neve          infantil   Blusa Infantil   \n",
      "498         498 2024-03-08    Vila Neve  eletrodomesticos  Ar-condicionado   \n",
      "499         499 2024-07-25  Vento Norte           sazonal     Guarda-chuva   \n",
      "\n",
      "     Quantidade  Valor_Venda  Valor Unitario  Recalculo Data_Formatada  \n",
      "0           5.0       405.55           81.11     405.55        07/2024  \n",
      "1           6.0      2866.20          477.70    2866.20        05/2024  \n",
      "2           8.0      3292.72          411.59    3292.72        01/2024  \n",
      "3           5.0      1294.95          258.99    1294.95        07/2024  \n",
      "4           NaN          NaN             NaN        NaN        05/2024  \n",
      "..          ...          ...             ...        ...            ...  \n",
      "495         4.0      1545.72          386.43    1545.72        08/2024  \n",
      "496         1.0       230.89          230.89     230.89        12/2024  \n",
      "497         6.0       441.30           73.55     441.30        05/2024  \n",
      "498         1.0       293.93          293.93     293.93        03/2024  \n",
      "499         3.0      1479.81          493.27    1479.81        07/2024  \n",
      "\n",
      "[500 rows x 10 columns]\n"
     ]
    }
   ],
   "source": [
    "df_analise['Data_Formatada'] = df_analise['Data'].dt.strftime(\"%m/%Y\")\n",
    "\n",
    "print(df_analise)"
   ]
  },
  {
   "cell_type": "code",
   "execution_count": 15,
   "id": "cf9e44ff",
   "metadata": {},
   "outputs": [
    {
     "name": "stdout",
     "output_type": "stream",
     "text": [
      "0      07/2024\n",
      "1      05/2024\n",
      "2      01/2024\n",
      "3      07/2024\n",
      "4      05/2024\n",
      "        ...   \n",
      "495    08/2024\n",
      "496    12/2024\n",
      "497    05/2024\n",
      "498    03/2024\n",
      "499    07/2024\n",
      "Name: Data_Formatada, Length: 500, dtype: object\n"
     ]
    }
   ],
   "source": [
    "print(df_analise['Data_Formatada'])"
   ]
  },
  {
   "cell_type": "markdown",
   "id": "d5d22dbf",
   "metadata": {},
   "source": [
    "3. Agrupar por mês e somar vendas"
   ]
  },
  {
   "cell_type": "code",
   "execution_count": 16,
   "id": "ac33b514",
   "metadata": {},
   "outputs": [
    {
     "name": "stdout",
     "output_type": "stream",
     "text": [
      "Data_Formatada\n",
      "01/2024    60691.71\n",
      "02/2024    44847.58\n",
      "03/2024    66190.62\n",
      "04/2024    43056.45\n",
      "05/2024    48735.05\n",
      "06/2024    56312.80\n",
      "07/2024    52659.94\n",
      "08/2024    47412.70\n",
      "09/2024    57258.88\n",
      "10/2024    48616.57\n",
      "11/2024    53871.05\n",
      "12/2024    40907.21\n",
      "Name: Valor_Venda, dtype: float64\n"
     ]
    }
   ],
   "source": [
    "venda_por_mes = df_analise.groupby('Data_Formatada')['Valor_Venda'].sum().round(2)\n",
    "print(venda_por_mes)"
   ]
  },
  {
   "cell_type": "markdown",
   "id": "1b5ce11c",
   "metadata": {},
   "source": [
    "4. Produtos mais vendidos (por volume) Objetivo: saber o que mais sai no caixa."
   ]
  },
  {
   "cell_type": "code",
   "execution_count": 17,
   "id": "ca73bcb4",
   "metadata": {},
   "outputs": [
    {
     "data": {
      "text/html": [
       "<style type=\"text/css\">\n",
       "#T_6268d_row2_col1 {\n",
       "  background-color: lightgreen;\n",
       "}\n",
       "</style>\n",
       "<table id=\"T_6268d\">\n",
       "  <thead>\n",
       "    <tr>\n",
       "      <th class=\"blank level0\" >&nbsp;</th>\n",
       "      <th id=\"T_6268d_level0_col0\" class=\"col_heading level0 col0\" >Data_Formatada</th>\n",
       "      <th id=\"T_6268d_level0_col1\" class=\"col_heading level0 col1\" >Valor_Venda</th>\n",
       "    </tr>\n",
       "  </thead>\n",
       "  <tbody>\n",
       "    <tr>\n",
       "      <th id=\"T_6268d_level0_row0\" class=\"row_heading level0 row0\" >0</th>\n",
       "      <td id=\"T_6268d_row0_col0\" class=\"data row0 col0\" >01/2024</td>\n",
       "      <td id=\"T_6268d_row0_col1\" class=\"data row0 col1\" >60691.710000</td>\n",
       "    </tr>\n",
       "    <tr>\n",
       "      <th id=\"T_6268d_level0_row1\" class=\"row_heading level0 row1\" >1</th>\n",
       "      <td id=\"T_6268d_row1_col0\" class=\"data row1 col0\" >02/2024</td>\n",
       "      <td id=\"T_6268d_row1_col1\" class=\"data row1 col1\" >44847.580000</td>\n",
       "    </tr>\n",
       "    <tr>\n",
       "      <th id=\"T_6268d_level0_row2\" class=\"row_heading level0 row2\" >2</th>\n",
       "      <td id=\"T_6268d_row2_col0\" class=\"data row2 col0\" >03/2024</td>\n",
       "      <td id=\"T_6268d_row2_col1\" class=\"data row2 col1\" >66190.620000</td>\n",
       "    </tr>\n",
       "    <tr>\n",
       "      <th id=\"T_6268d_level0_row3\" class=\"row_heading level0 row3\" >3</th>\n",
       "      <td id=\"T_6268d_row3_col0\" class=\"data row3 col0\" >04/2024</td>\n",
       "      <td id=\"T_6268d_row3_col1\" class=\"data row3 col1\" >43056.450000</td>\n",
       "    </tr>\n",
       "    <tr>\n",
       "      <th id=\"T_6268d_level0_row4\" class=\"row_heading level0 row4\" >4</th>\n",
       "      <td id=\"T_6268d_row4_col0\" class=\"data row4 col0\" >05/2024</td>\n",
       "      <td id=\"T_6268d_row4_col1\" class=\"data row4 col1\" >48735.050000</td>\n",
       "    </tr>\n",
       "    <tr>\n",
       "      <th id=\"T_6268d_level0_row5\" class=\"row_heading level0 row5\" >5</th>\n",
       "      <td id=\"T_6268d_row5_col0\" class=\"data row5 col0\" >06/2024</td>\n",
       "      <td id=\"T_6268d_row5_col1\" class=\"data row5 col1\" >56312.800000</td>\n",
       "    </tr>\n",
       "    <tr>\n",
       "      <th id=\"T_6268d_level0_row6\" class=\"row_heading level0 row6\" >6</th>\n",
       "      <td id=\"T_6268d_row6_col0\" class=\"data row6 col0\" >07/2024</td>\n",
       "      <td id=\"T_6268d_row6_col1\" class=\"data row6 col1\" >52659.940000</td>\n",
       "    </tr>\n",
       "    <tr>\n",
       "      <th id=\"T_6268d_level0_row7\" class=\"row_heading level0 row7\" >7</th>\n",
       "      <td id=\"T_6268d_row7_col0\" class=\"data row7 col0\" >08/2024</td>\n",
       "      <td id=\"T_6268d_row7_col1\" class=\"data row7 col1\" >47412.700000</td>\n",
       "    </tr>\n",
       "    <tr>\n",
       "      <th id=\"T_6268d_level0_row8\" class=\"row_heading level0 row8\" >8</th>\n",
       "      <td id=\"T_6268d_row8_col0\" class=\"data row8 col0\" >09/2024</td>\n",
       "      <td id=\"T_6268d_row8_col1\" class=\"data row8 col1\" >57258.880000</td>\n",
       "    </tr>\n",
       "    <tr>\n",
       "      <th id=\"T_6268d_level0_row9\" class=\"row_heading level0 row9\" >9</th>\n",
       "      <td id=\"T_6268d_row9_col0\" class=\"data row9 col0\" >10/2024</td>\n",
       "      <td id=\"T_6268d_row9_col1\" class=\"data row9 col1\" >48616.570000</td>\n",
       "    </tr>\n",
       "    <tr>\n",
       "      <th id=\"T_6268d_level0_row10\" class=\"row_heading level0 row10\" >10</th>\n",
       "      <td id=\"T_6268d_row10_col0\" class=\"data row10 col0\" >11/2024</td>\n",
       "      <td id=\"T_6268d_row10_col1\" class=\"data row10 col1\" >53871.050000</td>\n",
       "    </tr>\n",
       "    <tr>\n",
       "      <th id=\"T_6268d_level0_row11\" class=\"row_heading level0 row11\" >11</th>\n",
       "      <td id=\"T_6268d_row11_col0\" class=\"data row11 col0\" >12/2024</td>\n",
       "      <td id=\"T_6268d_row11_col1\" class=\"data row11 col1\" >40907.210000</td>\n",
       "    </tr>\n",
       "  </tbody>\n",
       "</table>\n"
      ],
      "text/plain": [
       "<pandas.io.formats.style.Styler at 0x29bc494a7e0>"
      ]
     },
     "execution_count": 17,
     "metadata": {},
     "output_type": "execute_result"
    }
   ],
   "source": [
    "\n",
    "venda_por_mes = df_analise.groupby('Data_Formatada')['Valor_Venda'].sum().round(2).reset_index()\n",
    "\n",
    "\n",
    "venda_por_mes.columns = ['Data_Formatada', 'Valor_Venda']\n",
    "\n",
    "\n",
    "def destacar_maior_venda(coluna):\n",
    "    max_valor = coluna.max()\n",
    "    return ['background-color: lightgreen' if v == max_valor else '' for v in coluna]\n",
    "\n",
    "# Aplicar estilo\n",
    "venda_por_mes.style.apply(destacar_maior_venda, subset=['Valor_Venda'])\n",
    "\n",
    "\n"
   ]
  },
  {
   "cell_type": "markdown",
   "id": "1baf3904",
   "metadata": {},
   "source": [
    "5. Comparação entre categorias. Objetivo: analisar quais categorias são mais lucrativas."
   ]
  },
  {
   "cell_type": "code",
   "execution_count": 18,
   "id": "956a1043",
   "metadata": {},
   "outputs": [
    {
     "name": "stdout",
     "output_type": "stream",
     "text": [
      "Produto\n",
      "Aquecedor          35569.99\n",
      "Ar-condicionado    42186.30\n",
      "Blusa Infantil     45697.99\n",
      "Calça              39877.70\n",
      "Camiseta           32989.71\n",
      "Casaco             37625.42\n",
      "Guarda-chuva       57962.81\n",
      "Lancheira          47749.97\n",
      "Manta térmica      42264.45\n",
      "Mochila            58042.64\n",
      "Protetor Solar     71095.35\n",
      "Ventilador         45034.42\n",
      "Vestido            44515.70\n",
      "Name: Valor_Venda, dtype: float64\n"
     ]
    }
   ],
   "source": [
    "venda_por_produto = df_analise.groupby('Produto')['Valor_Venda'].sum().round(2)\n",
    "print(venda_por_produto)\n"
   ]
  },
  {
   "cell_type": "code",
   "execution_count": 19,
   "id": "c39649cc",
   "metadata": {},
   "outputs": [
    {
     "data": {
      "text/html": [
       "<style type=\"text/css\">\n",
       "#T_7b446_row10_col1 {\n",
       "  background-color: lightgreen;\n",
       "}\n",
       "</style>\n",
       "<table id=\"T_7b446\">\n",
       "  <thead>\n",
       "    <tr>\n",
       "      <th class=\"blank level0\" >&nbsp;</th>\n",
       "      <th id=\"T_7b446_level0_col0\" class=\"col_heading level0 col0\" >Produto</th>\n",
       "      <th id=\"T_7b446_level0_col1\" class=\"col_heading level0 col1\" >Quantidade</th>\n",
       "    </tr>\n",
       "  </thead>\n",
       "  <tbody>\n",
       "    <tr>\n",
       "      <th id=\"T_7b446_level0_row0\" class=\"row_heading level0 row0\" >0</th>\n",
       "      <td id=\"T_7b446_row0_col0\" class=\"data row0 col0\" >Aquecedor</td>\n",
       "      <td id=\"T_7b446_row0_col1\" class=\"data row0 col1\" >215.000000</td>\n",
       "    </tr>\n",
       "    <tr>\n",
       "      <th id=\"T_7b446_level0_row1\" class=\"row_heading level0 row1\" >1</th>\n",
       "      <td id=\"T_7b446_row1_col0\" class=\"data row1 col0\" >Ar-condicionado</td>\n",
       "      <td id=\"T_7b446_row1_col1\" class=\"data row1 col1\" >153.000000</td>\n",
       "    </tr>\n",
       "    <tr>\n",
       "      <th id=\"T_7b446_level0_row2\" class=\"row_heading level0 row2\" >2</th>\n",
       "      <td id=\"T_7b446_row2_col0\" class=\"data row2 col0\" >Blusa Infantil</td>\n",
       "      <td id=\"T_7b446_row2_col1\" class=\"data row2 col1\" >181.000000</td>\n",
       "    </tr>\n",
       "    <tr>\n",
       "      <th id=\"T_7b446_level0_row3\" class=\"row_heading level0 row3\" >3</th>\n",
       "      <td id=\"T_7b446_row3_col0\" class=\"data row3 col0\" >Calça</td>\n",
       "      <td id=\"T_7b446_row3_col1\" class=\"data row3 col1\" >163.000000</td>\n",
       "    </tr>\n",
       "    <tr>\n",
       "      <th id=\"T_7b446_level0_row4\" class=\"row_heading level0 row4\" >4</th>\n",
       "      <td id=\"T_7b446_row4_col0\" class=\"data row4 col0\" >Camiseta</td>\n",
       "      <td id=\"T_7b446_row4_col1\" class=\"data row4 col1\" >130.000000</td>\n",
       "    </tr>\n",
       "    <tr>\n",
       "      <th id=\"T_7b446_level0_row5\" class=\"row_heading level0 row5\" >5</th>\n",
       "      <td id=\"T_7b446_row5_col0\" class=\"data row5 col0\" >Casaco</td>\n",
       "      <td id=\"T_7b446_row5_col1\" class=\"data row5 col1\" >156.000000</td>\n",
       "    </tr>\n",
       "    <tr>\n",
       "      <th id=\"T_7b446_level0_row6\" class=\"row_heading level0 row6\" >6</th>\n",
       "      <td id=\"T_7b446_row6_col0\" class=\"data row6 col0\" >Guarda-chuva</td>\n",
       "      <td id=\"T_7b446_row6_col1\" class=\"data row6 col1\" >253.000000</td>\n",
       "    </tr>\n",
       "    <tr>\n",
       "      <th id=\"T_7b446_level0_row7\" class=\"row_heading level0 row7\" >7</th>\n",
       "      <td id=\"T_7b446_row7_col0\" class=\"data row7 col0\" >Lancheira</td>\n",
       "      <td id=\"T_7b446_row7_col1\" class=\"data row7 col1\" >191.000000</td>\n",
       "    </tr>\n",
       "    <tr>\n",
       "      <th id=\"T_7b446_level0_row8\" class=\"row_heading level0 row8\" >8</th>\n",
       "      <td id=\"T_7b446_row8_col0\" class=\"data row8 col0\" >Manta térmica</td>\n",
       "      <td id=\"T_7b446_row8_col1\" class=\"data row8 col1\" >215.000000</td>\n",
       "    </tr>\n",
       "    <tr>\n",
       "      <th id=\"T_7b446_level0_row9\" class=\"row_heading level0 row9\" >9</th>\n",
       "      <td id=\"T_7b446_row9_col0\" class=\"data row9 col0\" >Mochila</td>\n",
       "      <td id=\"T_7b446_row9_col1\" class=\"data row9 col1\" >192.000000</td>\n",
       "    </tr>\n",
       "    <tr>\n",
       "      <th id=\"T_7b446_level0_row10\" class=\"row_heading level0 row10\" >10</th>\n",
       "      <td id=\"T_7b446_row10_col0\" class=\"data row10 col0\" >Protetor Solar</td>\n",
       "      <td id=\"T_7b446_row10_col1\" class=\"data row10 col1\" >260.000000</td>\n",
       "    </tr>\n",
       "    <tr>\n",
       "      <th id=\"T_7b446_level0_row11\" class=\"row_heading level0 row11\" >11</th>\n",
       "      <td id=\"T_7b446_row11_col0\" class=\"data row11 col0\" >Ventilador</td>\n",
       "      <td id=\"T_7b446_row11_col1\" class=\"data row11 col1\" >165.000000</td>\n",
       "    </tr>\n",
       "    <tr>\n",
       "      <th id=\"T_7b446_level0_row12\" class=\"row_heading level0 row12\" >12</th>\n",
       "      <td id=\"T_7b446_row12_col0\" class=\"data row12 col0\" >Vestido</td>\n",
       "      <td id=\"T_7b446_row12_col1\" class=\"data row12 col1\" >148.000000</td>\n",
       "    </tr>\n",
       "  </tbody>\n",
       "</table>\n"
      ],
      "text/plain": [
       "<pandas.io.formats.style.Styler at 0x29bc4afb0e0>"
      ]
     },
     "execution_count": 19,
     "metadata": {},
     "output_type": "execute_result"
    }
   ],
   "source": [
    "\n",
    "venda_por_produto = df_analise.groupby('Produto')['Quantidade'].sum().round().reset_index()\n",
    "\n",
    "\n",
    "venda_por_mes.columns = ['Produto', 'Quantidade']\n",
    "\n",
    "\n",
    "def destacar_maior_venda(coluna):\n",
    "    max_valor = coluna.max()\n",
    "    return ['background-color: lightgreen' if v == max_valor else '' for v in coluna]\n",
    "\n",
    "\n",
    "venda_por_produto.style.apply(destacar_maior_venda, subset=['Quantidade'])"
   ]
  },
  {
   "cell_type": "markdown",
   "id": "21a03831",
   "metadata": {},
   "source": [
    "6. Comparação entre lojas por categoria. Objetivo: avaliar se há especialização ou foco diferente entre as lojas, com base nas categorias que mais vendem."
   ]
  },
  {
   "cell_type": "code",
   "execution_count": 20,
   "id": "03a6cc2c",
   "metadata": {},
   "outputs": [
    {
     "name": "stdout",
     "output_type": "stream",
     "text": [
      "Loja         Categoria       \n",
      "Chuva Clara  eletrodomesticos    122.0\n",
      "             infantil            130.0\n",
      "             roupas              214.0\n",
      "             sazonal             198.0\n",
      "Porto Sol    eletrodomesticos    118.0\n",
      "             infantil            137.0\n",
      "             roupas              137.0\n",
      "             sazonal             197.0\n",
      "Vento Norte  eletrodomesticos    157.0\n",
      "             infantil            141.0\n",
      "             roupas              179.0\n",
      "             sazonal             160.0\n",
      "Vila Neve    eletrodomesticos    149.0\n",
      "             infantil            182.0\n",
      "             roupas               92.0\n",
      "             sazonal             182.0\n",
      "Name: Quantidade, dtype: float64\n"
     ]
    }
   ],
   "source": [
    "venda_por_produtos = df_analise.groupby(['Loja','Categoria'])['Quantidade'].sum().round()\n",
    "\n",
    "print(venda_por_produtos)"
   ]
  },
  {
   "cell_type": "code",
   "execution_count": 21,
   "id": "2a3c5087",
   "metadata": {},
   "outputs": [
    {
     "data": {
      "text/html": [
       "<style type=\"text/css\">\n",
       "#T_35cbf_row2_col2 {\n",
       "  background-color: lightgreen;\n",
       "}\n",
       "</style>\n",
       "<table id=\"T_35cbf\">\n",
       "  <thead>\n",
       "    <tr>\n",
       "      <th class=\"blank level0\" >&nbsp;</th>\n",
       "      <th id=\"T_35cbf_level0_col0\" class=\"col_heading level0 col0\" >Loja</th>\n",
       "      <th id=\"T_35cbf_level0_col1\" class=\"col_heading level0 col1\" >Categoria</th>\n",
       "      <th id=\"T_35cbf_level0_col2\" class=\"col_heading level0 col2\" >Quantidade</th>\n",
       "    </tr>\n",
       "  </thead>\n",
       "  <tbody>\n",
       "    <tr>\n",
       "      <th id=\"T_35cbf_level0_row0\" class=\"row_heading level0 row0\" >0</th>\n",
       "      <td id=\"T_35cbf_row0_col0\" class=\"data row0 col0\" >Chuva Clara</td>\n",
       "      <td id=\"T_35cbf_row0_col1\" class=\"data row0 col1\" >eletrodomesticos</td>\n",
       "      <td id=\"T_35cbf_row0_col2\" class=\"data row0 col2\" >122.000000</td>\n",
       "    </tr>\n",
       "    <tr>\n",
       "      <th id=\"T_35cbf_level0_row1\" class=\"row_heading level0 row1\" >1</th>\n",
       "      <td id=\"T_35cbf_row1_col0\" class=\"data row1 col0\" >Chuva Clara</td>\n",
       "      <td id=\"T_35cbf_row1_col1\" class=\"data row1 col1\" >infantil</td>\n",
       "      <td id=\"T_35cbf_row1_col2\" class=\"data row1 col2\" >130.000000</td>\n",
       "    </tr>\n",
       "    <tr>\n",
       "      <th id=\"T_35cbf_level0_row2\" class=\"row_heading level0 row2\" >2</th>\n",
       "      <td id=\"T_35cbf_row2_col0\" class=\"data row2 col0\" >Chuva Clara</td>\n",
       "      <td id=\"T_35cbf_row2_col1\" class=\"data row2 col1\" >roupas</td>\n",
       "      <td id=\"T_35cbf_row2_col2\" class=\"data row2 col2\" >214.000000</td>\n",
       "    </tr>\n",
       "    <tr>\n",
       "      <th id=\"T_35cbf_level0_row3\" class=\"row_heading level0 row3\" >3</th>\n",
       "      <td id=\"T_35cbf_row3_col0\" class=\"data row3 col0\" >Chuva Clara</td>\n",
       "      <td id=\"T_35cbf_row3_col1\" class=\"data row3 col1\" >sazonal</td>\n",
       "      <td id=\"T_35cbf_row3_col2\" class=\"data row3 col2\" >198.000000</td>\n",
       "    </tr>\n",
       "    <tr>\n",
       "      <th id=\"T_35cbf_level0_row4\" class=\"row_heading level0 row4\" >4</th>\n",
       "      <td id=\"T_35cbf_row4_col0\" class=\"data row4 col0\" >Porto Sol</td>\n",
       "      <td id=\"T_35cbf_row4_col1\" class=\"data row4 col1\" >eletrodomesticos</td>\n",
       "      <td id=\"T_35cbf_row4_col2\" class=\"data row4 col2\" >118.000000</td>\n",
       "    </tr>\n",
       "    <tr>\n",
       "      <th id=\"T_35cbf_level0_row5\" class=\"row_heading level0 row5\" >5</th>\n",
       "      <td id=\"T_35cbf_row5_col0\" class=\"data row5 col0\" >Porto Sol</td>\n",
       "      <td id=\"T_35cbf_row5_col1\" class=\"data row5 col1\" >infantil</td>\n",
       "      <td id=\"T_35cbf_row5_col2\" class=\"data row5 col2\" >137.000000</td>\n",
       "    </tr>\n",
       "    <tr>\n",
       "      <th id=\"T_35cbf_level0_row6\" class=\"row_heading level0 row6\" >6</th>\n",
       "      <td id=\"T_35cbf_row6_col0\" class=\"data row6 col0\" >Porto Sol</td>\n",
       "      <td id=\"T_35cbf_row6_col1\" class=\"data row6 col1\" >roupas</td>\n",
       "      <td id=\"T_35cbf_row6_col2\" class=\"data row6 col2\" >137.000000</td>\n",
       "    </tr>\n",
       "    <tr>\n",
       "      <th id=\"T_35cbf_level0_row7\" class=\"row_heading level0 row7\" >7</th>\n",
       "      <td id=\"T_35cbf_row7_col0\" class=\"data row7 col0\" >Porto Sol</td>\n",
       "      <td id=\"T_35cbf_row7_col1\" class=\"data row7 col1\" >sazonal</td>\n",
       "      <td id=\"T_35cbf_row7_col2\" class=\"data row7 col2\" >197.000000</td>\n",
       "    </tr>\n",
       "    <tr>\n",
       "      <th id=\"T_35cbf_level0_row8\" class=\"row_heading level0 row8\" >8</th>\n",
       "      <td id=\"T_35cbf_row8_col0\" class=\"data row8 col0\" >Vento Norte</td>\n",
       "      <td id=\"T_35cbf_row8_col1\" class=\"data row8 col1\" >eletrodomesticos</td>\n",
       "      <td id=\"T_35cbf_row8_col2\" class=\"data row8 col2\" >157.000000</td>\n",
       "    </tr>\n",
       "    <tr>\n",
       "      <th id=\"T_35cbf_level0_row9\" class=\"row_heading level0 row9\" >9</th>\n",
       "      <td id=\"T_35cbf_row9_col0\" class=\"data row9 col0\" >Vento Norte</td>\n",
       "      <td id=\"T_35cbf_row9_col1\" class=\"data row9 col1\" >infantil</td>\n",
       "      <td id=\"T_35cbf_row9_col2\" class=\"data row9 col2\" >141.000000</td>\n",
       "    </tr>\n",
       "    <tr>\n",
       "      <th id=\"T_35cbf_level0_row10\" class=\"row_heading level0 row10\" >10</th>\n",
       "      <td id=\"T_35cbf_row10_col0\" class=\"data row10 col0\" >Vento Norte</td>\n",
       "      <td id=\"T_35cbf_row10_col1\" class=\"data row10 col1\" >roupas</td>\n",
       "      <td id=\"T_35cbf_row10_col2\" class=\"data row10 col2\" >179.000000</td>\n",
       "    </tr>\n",
       "    <tr>\n",
       "      <th id=\"T_35cbf_level0_row11\" class=\"row_heading level0 row11\" >11</th>\n",
       "      <td id=\"T_35cbf_row11_col0\" class=\"data row11 col0\" >Vento Norte</td>\n",
       "      <td id=\"T_35cbf_row11_col1\" class=\"data row11 col1\" >sazonal</td>\n",
       "      <td id=\"T_35cbf_row11_col2\" class=\"data row11 col2\" >160.000000</td>\n",
       "    </tr>\n",
       "    <tr>\n",
       "      <th id=\"T_35cbf_level0_row12\" class=\"row_heading level0 row12\" >12</th>\n",
       "      <td id=\"T_35cbf_row12_col0\" class=\"data row12 col0\" >Vila Neve</td>\n",
       "      <td id=\"T_35cbf_row12_col1\" class=\"data row12 col1\" >eletrodomesticos</td>\n",
       "      <td id=\"T_35cbf_row12_col2\" class=\"data row12 col2\" >149.000000</td>\n",
       "    </tr>\n",
       "    <tr>\n",
       "      <th id=\"T_35cbf_level0_row13\" class=\"row_heading level0 row13\" >13</th>\n",
       "      <td id=\"T_35cbf_row13_col0\" class=\"data row13 col0\" >Vila Neve</td>\n",
       "      <td id=\"T_35cbf_row13_col1\" class=\"data row13 col1\" >infantil</td>\n",
       "      <td id=\"T_35cbf_row13_col2\" class=\"data row13 col2\" >182.000000</td>\n",
       "    </tr>\n",
       "    <tr>\n",
       "      <th id=\"T_35cbf_level0_row14\" class=\"row_heading level0 row14\" >14</th>\n",
       "      <td id=\"T_35cbf_row14_col0\" class=\"data row14 col0\" >Vila Neve</td>\n",
       "      <td id=\"T_35cbf_row14_col1\" class=\"data row14 col1\" >roupas</td>\n",
       "      <td id=\"T_35cbf_row14_col2\" class=\"data row14 col2\" >92.000000</td>\n",
       "    </tr>\n",
       "    <tr>\n",
       "      <th id=\"T_35cbf_level0_row15\" class=\"row_heading level0 row15\" >15</th>\n",
       "      <td id=\"T_35cbf_row15_col0\" class=\"data row15 col0\" >Vila Neve</td>\n",
       "      <td id=\"T_35cbf_row15_col1\" class=\"data row15 col1\" >sazonal</td>\n",
       "      <td id=\"T_35cbf_row15_col2\" class=\"data row15 col2\" >182.000000</td>\n",
       "    </tr>\n",
       "  </tbody>\n",
       "</table>\n"
      ],
      "text/plain": [
       "<pandas.io.formats.style.Styler at 0x29bc494be60>"
      ]
     },
     "execution_count": 21,
     "metadata": {},
     "output_type": "execute_result"
    }
   ],
   "source": [
    "venda_por_produtos = df_analise.groupby(['Loja','Categoria'])['Quantidade'].sum().round().reset_index()\n",
    "\n",
    "\n",
    "venda_por_produtos.columns = ['Loja', 'Categoria', 'Quantidade']\n",
    "\n",
    "\n",
    "def destacar_maior_venda(coluna):\n",
    "    max_valor = coluna.max()\n",
    "    return ['background-color: lightgreen' if v == max_valor else '' for v in coluna]\n",
    "\n",
    "# Aplicar estilo\n",
    "venda_por_produtos.style.apply(destacar_maior_venda, subset=['Quantidade'])"
   ]
  },
  {
   "cell_type": "markdown",
   "id": "66da1432",
   "metadata": {},
   "source": [
    "7. Plotar como gráfico de barras empilhadas"
   ]
  },
  {
   "cell_type": "code",
   "execution_count": 22,
   "id": "8b3becb1",
   "metadata": {},
   "outputs": [
    {
     "data": {
      "image/png": "[encoded data removed]",
      "text/plain": [
       "<Figure size 1000x500 with 1 Axes>"
      ]
     },
     "metadata": {},
     "output_type": "display_data"
    }
   ],
   "source": [
    "import seaborn as sns\n",
    "venda_por_produtos = df_analise.groupby(['Loja','Categoria'])['Quantidade'].sum().round().reset_index()\n",
    "\n",
    "plt.figure(figsize=(10,5))\n",
    "\n",
    "sns.barplot(data=venda_por_produtos, x='Categoria', y='Quantidade', hue='Loja', palette='dark')\n",
    "\n",
    "plt.title(\"Venda por lojas e categoria\")\n",
    "plt.xlabel(\"Lojas\")\n",
    "plt.ylabel(\"Quantidade\")\n",
    "plt.xticks(rotation=45)\n",
    "plt.grid(axis='y')\n",
    "plt.show()"
   ]
  }
 ],
 "metadata": {
  "kernelspec": {
   "display_name": "Python 3",
   "language": "python",
   "name": "python3"
  },
  "language_info": {
   "codemirror_mode": {
    "name": "ipython",
    "version": 3
   },
   "file_extension": ".py",
   "mimetype": "text/x-python",
   "name": "python",
   "nbconvert_exporter": "python",
   "pygments_lexer": "ipython3",
   "version": "3.12.6"
  }
 },
 "nbformat": 4,
 "nbformat_minor": 5
}
